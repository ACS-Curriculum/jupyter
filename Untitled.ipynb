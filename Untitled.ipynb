{
 "cells": [
  {
   "cell_type": "code",
   "execution_count": 7,
   "id": "683cd47b-afbf-4ad5-a34f-f5f7a8a99a3a",
   "metadata": {},
   "outputs": [
    {
     "name": "stdout",
     "output_type": "stream",
     "text": [
      "py5 is awesome\n"
     ]
    }
   ],
   "source": [
    "\n",
    "\n",
    "def setup():\n",
    "    size(200, 200)\n",
    "    rect_mode(CENTER)\n",
    "\n",
    "def draw():\n",
    "    rect(mouse_x, mouse_y, 10, 10)\n",
    "\n",
    "# run the sketch with the window at position 400, 300 on display #1\n",
    "run_sketch(block=False, py5_options=['--location=400,300', '--display=1'], sketch_args=['py5 is awesome'])\n",
    "# this will print 'py5 is awesome'\n",
    "print(pargs[0])"
   ]
  },
  {
   "cell_type": "code",
   "execution_count": null,
   "id": "2f1e654e-f17d-489a-b5bd-4cda3e0865db",
   "metadata": {},
   "outputs": [],
   "source": []
  },
  {
   "cell_type": "code",
   "execution_count": null,
   "id": "948723c3-1d88-452a-9e6d-19af57540a95",
   "metadata": {},
   "outputs": [],
   "source": []
  }
 ],
 "metadata": {
  "kernelspec": {
   "display_name": "py5",
   "language": "python",
   "name": "py5"
  },
  "language_info": {
   "codemirror_mode": {
    "name": "ipython",
    "version": 3
   },
   "file_extension": ".py",
   "mimetype": "text/x-python",
   "name": "python",
   "nbconvert_exporter": "python",
   "pygments_lexer": "ipython3",
   "version": "3.10.11"
  }
 },
 "nbformat": 4,
 "nbformat_minor": 5
}
